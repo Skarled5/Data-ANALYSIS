{
 "cells": [
  {
   "cell_type": "code",
   "execution_count": 4,
   "id": "90e36359",
   "metadata": {},
   "outputs": [
    {
     "name": "stdout",
     "output_type": "stream",
     "text": [
      "TensorFlow sürümü: 2.13.0\n",
      "Toplama sonucu: [5 7 9]\n"
     ]
    }
   ],
   "source": [
    "import tensorflow as tf\n",
    "# TensorFlow sürümünü yazdırma\n",
    "print(\"TensorFlow sürümü:\", tf.__version__)\n",
    "\n",
    "# Birkaç örnek tensör oluşturma\n",
    "tensor1 = tf.constant([1, 2, 3])\n",
    "tensor2 = tf.constant([4, 5, 6])\n",
    "\n",
    "# Tensörleri toplama işlemi\n",
    "result = tf.add(tensor1, tensor2)\n",
    "\n",
    "# Sonucu yazdırma\n",
    "print(\"Toplama sonucu:\", result.numpy())"
   ]
  },
  {
   "cell_type": "code",
   "execution_count": 5,
   "id": "9528e5c4",
   "metadata": {},
   "outputs": [
    {
     "name": "stdout",
     "output_type": "stream",
     "text": [
      "Downloading data from https://storage.googleapis.com/tensorflow/tf-keras-datasets/mnist.npz\n",
      "11490434/11490434 [==============================] - 6s 1us/step\n",
      "Epoch 1/5\n",
      "1875/1875 [==============================] - 3s 1ms/step - loss: 0.2549 - accuracy: 0.9276 - val_loss: 0.1414 - val_accuracy: 0.9605\n",
      "Epoch 2/5\n",
      "1875/1875 [==============================] - 3s 1ms/step - loss: 0.1124 - accuracy: 0.9669 - val_loss: 0.1062 - val_accuracy: 0.9687\n",
      "Epoch 3/5\n",
      "1875/1875 [==============================] - 3s 1ms/step - loss: 0.0782 - accuracy: 0.9763 - val_loss: 0.0871 - val_accuracy: 0.9734\n",
      "Epoch 4/5\n",
      "1875/1875 [==============================] - 3s 1ms/step - loss: 0.0586 - accuracy: 0.9822 - val_loss: 0.0871 - val_accuracy: 0.9748\n",
      "Epoch 5/5\n",
      "1875/1875 [==============================] - 3s 1ms/step - loss: 0.0453 - accuracy: 0.9858 - val_loss: 0.0808 - val_accuracy: 0.9749\n",
      "313/313 [==============================] - 0s 846us/step - loss: 0.0808 - accuracy: 0.9749\n",
      "Test accuracy: 0.9749000072479248\n"
     ]
    }
   ],
   "source": [
    "\n",
    "from tensorflow.keras.datasets import mnist\n",
    "from tensorflow.keras.models import Sequential\n",
    "from tensorflow.keras.layers import Dense, Flatten\n",
    "from tensorflow.keras.utils import to_categorical\n",
    "\n",
    "# Veri kümesini yükleme ve hazırlama\n",
    "(x_train, y_train), (x_test, y_test) = mnist.load_data()\n",
    "x_train, x_test = x_train / 255.0, x_test / 255.0  # Görüntü piksellerini 0 ile 1 arasına ölçekleme\n",
    "y_train = to_categorical(y_train, num_classes=10)\n",
    "y_test = to_categorical(y_test, num_classes=10)\n",
    "\n",
    "# Model oluşturma\n",
    "model = Sequential([\n",
    "    Flatten(input_shape=(28, 28)),  # Görüntüyü düzleştirme\n",
    "    Dense(128, activation='relu'),    # Gizli katman\n",
    "    Dense(10, activation='softmax')   # Çıkış katmanı\n",
    "])\n",
    "\n",
    "# Modeli derleme\n",
    "model.compile(optimizer='adam',\n",
    "              loss='categorical_crossentropy',\n",
    "              metrics=['accuracy'])\n",
    "\n",
    "# Modeli eğitme\n",
    "model.fit(x_train, y_train, epochs=5, validation_data=(x_test, y_test))\n",
    "\n",
    "# Modeli değerlendirme\n",
    "test_loss, test_acc = model.evaluate(x_test, y_test)\n",
    "print(f\"Test accuracy: {test_acc}\")"
   ]
  },
  {
   "cell_type": "code",
   "execution_count": null,
   "id": "daa3a0c0",
   "metadata": {},
   "outputs": [],
   "source": []
  }
 ],
 "metadata": {
  "kernelspec": {
   "display_name": "Python 3 (ipykernel)",
   "language": "python",
   "name": "python3"
  },
  "language_info": {
   "codemirror_mode": {
    "name": "ipython",
    "version": 3
   },
   "file_extension": ".py",
   "mimetype": "text/x-python",
   "name": "python",
   "nbconvert_exporter": "python",
   "pygments_lexer": "ipython3",
   "version": "3.9.12"
  }
 },
 "nbformat": 4,
 "nbformat_minor": 5
}
