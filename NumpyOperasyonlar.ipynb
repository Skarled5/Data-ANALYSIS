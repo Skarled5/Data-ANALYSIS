{
 "cells": [
  {
   "cell_type": "code",
   "execution_count": 3,
   "id": "164cb841",
   "metadata": {},
   "outputs": [],
   "source": [
    "import numpy as np"
   ]
  },
  {
   "cell_type": "code",
   "execution_count": 3,
   "id": "fec8191a",
   "metadata": {},
   "outputs": [],
   "source": [
    "benimDizim = np.arange(0,15)"
   ]
  },
  {
   "cell_type": "markdown",
   "id": "62df371d",
   "metadata": {},
   "source": []
  },
  {
   "cell_type": "code",
   "execution_count": 4,
   "id": "b5d3b9e4",
   "metadata": {},
   "outputs": [],
   "source": [
    "benimDizim[3:8] = -5"
   ]
  },
  {
   "cell_type": "code",
   "execution_count": 5,
   "id": "dab71e58",
   "metadata": {},
   "outputs": [
    {
     "data": {
      "text/plain": [
       "array([ 0,  1,  2, -5, -5, -5, -5, -5,  8,  9, 10, 11, 12, 13, 14])"
      ]
     },
     "execution_count": 5,
     "metadata": {},
     "output_type": "execute_result"
    }
   ],
   "source": [
    "benimDizim"
   ]
  },
  {
   "cell_type": "code",
   "execution_count": 6,
   "id": "ccb33357",
   "metadata": {},
   "outputs": [],
   "source": [
    "baskaDizi = np.arange(5,30)"
   ]
  },
  {
   "cell_type": "code",
   "execution_count": 7,
   "id": "ac2cef58",
   "metadata": {},
   "outputs": [],
   "source": [
    "slicingDizisi = baskaDizi[4:9]"
   ]
  },
  {
   "cell_type": "code",
   "execution_count": 8,
   "id": "54c0d66f",
   "metadata": {},
   "outputs": [
    {
     "data": {
      "text/plain": [
       "array([ 9, 10, 11, 12, 13])"
      ]
     },
     "execution_count": 8,
     "metadata": {},
     "output_type": "execute_result"
    }
   ],
   "source": [
    "slicingDizisi"
   ]
  },
  {
   "cell_type": "code",
   "execution_count": 9,
   "id": "1af276df",
   "metadata": {},
   "outputs": [],
   "source": [
    "slicingDizisi[:] = 700"
   ]
  },
  {
   "cell_type": "code",
   "execution_count": 12,
   "id": "6d7e4f79",
   "metadata": {},
   "outputs": [],
   "source": [
    "ornekDizi = np.arange(1,20)"
   ]
  },
  {
   "cell_type": "code",
   "execution_count": 13,
   "id": "7b0e788c",
   "metadata": {},
   "outputs": [],
   "source": [
    "ornekDiziKopyası = ornekDizi.copy()"
   ]
  },
  {
   "cell_type": "code",
   "execution_count": 14,
   "id": "3a107ad3",
   "metadata": {},
   "outputs": [],
   "source": [
    "ornekDiziKopyasınınKopyası = ornekDiziKopyası[3:6]"
   ]
  },
  {
   "cell_type": "code",
   "execution_count": 16,
   "id": "c1ea60e6",
   "metadata": {},
   "outputs": [],
   "source": [
    "ornekDiziKopyasınınKopyası[:] = 300"
   ]
  },
  {
   "cell_type": "markdown",
   "id": "b9da5a91",
   "metadata": {},
   "source": [
    "## matrix"
   ]
  },
  {
   "cell_type": "code",
   "execution_count": 1,
   "id": "fc39c9be",
   "metadata": {},
   "outputs": [],
   "source": [
    "yeniListe = [[0,1,2,3,4],[5,6,7,8,9],[10,11,12,13,14],[15,16,17,18,19],[20,21,22,23,24]]"
   ]
  },
  {
   "cell_type": "code",
   "execution_count": 4,
   "id": "c45f579c",
   "metadata": {},
   "outputs": [],
   "source": [
    "yeniMatrix = np.array(yeniListe)"
   ]
  },
  {
   "cell_type": "code",
   "execution_count": 5,
   "id": "a0197d1c",
   "metadata": {},
   "outputs": [
    {
     "data": {
      "text/plain": [
       "array([[20, 21, 22, 23, 24],\n",
       "       [10, 11, 12, 13, 14],\n",
       "       [ 0,  1,  2,  3,  4]])"
      ]
     },
     "execution_count": 5,
     "metadata": {},
     "output_type": "execute_result"
    }
   ],
   "source": [
    "yeniMatrix[[4,2,0]]"
   ]
  },
  {
   "cell_type": "markdown",
   "id": "e2513c44",
   "metadata": {},
   "source": [
    "## operasyonlar"
   ]
  },
  {
   "cell_type": "code",
   "execution_count": 6,
   "id": "ec009b9f",
   "metadata": {},
   "outputs": [],
   "source": [
    "yeniBirDizi = np.random.randint(1,100,20)"
   ]
  },
  {
   "cell_type": "code",
   "execution_count": 7,
   "id": "63b9316a",
   "metadata": {},
   "outputs": [
    {
     "data": {
      "text/plain": [
       "array([70, 71,  8,  9, 29, 93, 63, 53,  4, 92, 38, 93, 36, 44, 54, 51, 78,\n",
       "       11, 90, 16])"
      ]
     },
     "execution_count": 7,
     "metadata": {},
     "output_type": "execute_result"
    }
   ],
   "source": [
    "yeniBirDizi"
   ]
  },
  {
   "cell_type": "code",
   "execution_count": 8,
   "id": "06ccc437",
   "metadata": {},
   "outputs": [
    {
     "data": {
      "text/plain": [
       "array([ True,  True, False, False,  True,  True,  True,  True, False,\n",
       "        True,  True,  True,  True,  True,  True,  True,  True, False,\n",
       "        True, False])"
      ]
     },
     "execution_count": 8,
     "metadata": {},
     "output_type": "execute_result"
    }
   ],
   "source": [
    "yeniBirDizi > 24"
   ]
  },
  {
   "cell_type": "code",
   "execution_count": 9,
   "id": "8a261aa8",
   "metadata": {},
   "outputs": [],
   "source": [
    "sonucDizisi = yeniBirDizi > 24"
   ]
  },
  {
   "cell_type": "code",
   "execution_count": 11,
   "id": "c4af0e8e",
   "metadata": {},
   "outputs": [
    {
     "data": {
      "text/plain": [
       "array([ True,  True, False, False,  True,  True,  True,  True, False,\n",
       "        True,  True,  True,  True,  True,  True,  True,  True, False,\n",
       "        True, False])"
      ]
     },
     "execution_count": 11,
     "metadata": {},
     "output_type": "execute_result"
    }
   ],
   "source": [
    "sonucDizisi "
   ]
  },
  {
   "cell_type": "code",
   "execution_count": 12,
   "id": "a8108756",
   "metadata": {},
   "outputs": [
    {
     "data": {
      "text/plain": [
       "array([70, 71, 29, 93, 63, 53, 92, 38, 93, 36, 44, 54, 51, 78, 90])"
      ]
     },
     "execution_count": 12,
     "metadata": {},
     "output_type": "execute_result"
    }
   ],
   "source": [
    "yeniBirDizi[sonucDizisi]"
   ]
  },
  {
   "cell_type": "code",
   "execution_count": 13,
   "id": "305b8bd0",
   "metadata": {},
   "outputs": [
    {
     "data": {
      "text/plain": [
       "array([70, 71, 29, 93, 63, 53, 92, 38, 93, 36, 44, 54, 51, 78, 90])"
      ]
     },
     "execution_count": 13,
     "metadata": {},
     "output_type": "execute_result"
    }
   ],
   "source": [
    "yeniBirDizi[yeniBirDizi > 24]"
   ]
  },
  {
   "cell_type": "code",
   "execution_count": 14,
   "id": "e3210e16",
   "metadata": {},
   "outputs": [],
   "source": [
    "sonDizi = np.arange(0,24)"
   ]
  },
  {
   "cell_type": "code",
   "execution_count": 15,
   "id": "629ce16f",
   "metadata": {},
   "outputs": [
    {
     "data": {
      "text/plain": [
       "array([ 0,  2,  4,  6,  8, 10, 12, 14, 16, 18, 20, 22, 24, 26, 28, 30, 32,\n",
       "       34, 36, 38, 40, 42, 44, 46])"
      ]
     },
     "execution_count": 15,
     "metadata": {},
     "output_type": "execute_result"
    }
   ],
   "source": [
    "sonDizi + sonDizi"
   ]
  },
  {
   "cell_type": "code",
   "execution_count": 16,
   "id": "96c129cc",
   "metadata": {},
   "outputs": [
    {
     "data": {
      "text/plain": [
       "array([0.        , 1.        , 1.41421356, 1.73205081, 2.        ,\n",
       "       2.23606798, 2.44948974, 2.64575131, 2.82842712, 3.        ,\n",
       "       3.16227766, 3.31662479, 3.46410162, 3.60555128, 3.74165739,\n",
       "       3.87298335, 4.        , 4.12310563, 4.24264069, 4.35889894,\n",
       "       4.47213595, 4.58257569, 4.69041576, 4.79583152])"
      ]
     },
     "execution_count": 16,
     "metadata": {},
     "output_type": "execute_result"
    }
   ],
   "source": [
    "np.sqrt(sonDizi)"
   ]
  },
  {
   "cell_type": "code",
   "execution_count": null,
   "id": "9b547a61",
   "metadata": {},
   "outputs": [],
   "source": []
  }
 ],
 "metadata": {
  "kernelspec": {
   "display_name": "Python 3 (ipykernel)",
   "language": "python",
   "name": "python3"
  },
  "language_info": {
   "codemirror_mode": {
    "name": "ipython",
    "version": 3
   },
   "file_extension": ".py",
   "mimetype": "text/x-python",
   "name": "python",
   "nbconvert_exporter": "python",
   "pygments_lexer": "ipython3",
   "version": "3.9.12"
  }
 },
 "nbformat": 4,
 "nbformat_minor": 5
}
