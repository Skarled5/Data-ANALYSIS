{
 "cells": [
  {
   "cell_type": "code",
   "execution_count": 1,
   "id": "aaad3fa4",
   "metadata": {},
   "outputs": [],
   "source": [
    "import numpy as np\n",
    "import pandas as pd"
   ]
  },
  {
   "cell_type": "markdown",
   "id": "0a39727b",
   "metadata": {},
   "source": [
    "# Series / Seriler"
   ]
  },
  {
   "cell_type": "code",
   "execution_count": 2,
   "id": "68898520",
   "metadata": {},
   "outputs": [],
   "source": [
    "benimSozlugum = {\"Atil\" : 50,\"Zeynep\" : 40,\"Mehmet\" : 30}"
   ]
  },
  {
   "cell_type": "code",
   "execution_count": 3,
   "id": "fec071dc",
   "metadata": {},
   "outputs": [
    {
     "data": {
      "text/plain": [
       "Atil      50\n",
       "Zeynep    40\n",
       "Mehmet    30\n",
       "dtype: int64"
      ]
     },
     "execution_count": 3,
     "metadata": {},
     "output_type": "execute_result"
    }
   ],
   "source": [
    "pd.Series(benimSozlugum)"
   ]
  },
  {
   "cell_type": "code",
   "execution_count": 4,
   "id": "49ad5d8e",
   "metadata": {},
   "outputs": [],
   "source": [
    "benimYaslarım = [50,40,30]\n",
    "benimIsimlerim = [\"Atil\",\"Zeynep\",\"Mehmet\"]"
   ]
  },
  {
   "cell_type": "code",
   "execution_count": 5,
   "id": "d567628a",
   "metadata": {},
   "outputs": [
    {
     "data": {
      "text/plain": [
       "Atil      50\n",
       "Zeynep    40\n",
       "Mehmet    30\n",
       "dtype: int64"
      ]
     },
     "execution_count": 5,
     "metadata": {},
     "output_type": "execute_result"
    }
   ],
   "source": [
    "pd.Series(data=benimYaslarım,index=benimIsimlerim)"
   ]
  },
  {
   "cell_type": "code",
   "execution_count": 6,
   "id": "c0021889",
   "metadata": {},
   "outputs": [],
   "source": [
    "numpyDizisi = np.array([50,40,30])"
   ]
  },
  {
   "cell_type": "code",
   "execution_count": 7,
   "id": "eb7d5e54",
   "metadata": {},
   "outputs": [
    {
     "data": {
      "text/plain": [
       "array([50, 40, 30])"
      ]
     },
     "execution_count": 7,
     "metadata": {},
     "output_type": "execute_result"
    }
   ],
   "source": [
    "numpyDizisi"
   ]
  },
  {
   "cell_type": "code",
   "execution_count": 8,
   "id": "c52a9575",
   "metadata": {},
   "outputs": [
    {
     "data": {
      "text/plain": [
       "0    50\n",
       "1    40\n",
       "2    30\n",
       "dtype: int32"
      ]
     },
     "execution_count": 8,
     "metadata": {},
     "output_type": "execute_result"
    }
   ],
   "source": [
    "pd.Series(numpyDizisi)"
   ]
  },
  {
   "cell_type": "code",
   "execution_count": 9,
   "id": "f1926280",
   "metadata": {},
   "outputs": [
    {
     "data": {
      "text/plain": [
       "Belgin    50\n",
       "Hakan     40\n",
       "Fatih     30\n",
       "dtype: int32"
      ]
     },
     "execution_count": 9,
     "metadata": {},
     "output_type": "execute_result"
    }
   ],
   "source": [
    "pd.Series(numpyDizisi,[\"Belgin\",\"Hakan\",\"Fatih\"])"
   ]
  },
  {
   "cell_type": "code",
   "execution_count": 18,
   "id": "11b451c4",
   "metadata": {},
   "outputs": [],
   "source": [
    "yarismaSonucu1 = pd.Series([62,40,96],[\"Hakan\",\"Burak\",\"Meric\"])"
   ]
  },
  {
   "cell_type": "code",
   "execution_count": 19,
   "id": "05670fdc",
   "metadata": {},
   "outputs": [],
   "source": [
    "yarismaSonucu2 = pd.Series([100,68,40],[\"Hakan\",\"Burak\",\"Meric\"])"
   ]
  },
  {
   "cell_type": "code",
   "execution_count": 20,
   "id": "8c46a64f",
   "metadata": {},
   "outputs": [],
   "source": [
    "sonucToplamı = yarismaSonucu1 + yarismaSonucu2"
   ]
  },
  {
   "cell_type": "code",
   "execution_count": 22,
   "id": "d3d6fda3",
   "metadata": {},
   "outputs": [
    {
     "data": {
      "text/plain": [
       "Hakan    162\n",
       "Burak    108\n",
       "Meric    136\n",
       "dtype: int64"
      ]
     },
     "execution_count": 22,
     "metadata": {},
     "output_type": "execute_result"
    }
   ],
   "source": [
    "sonucToplamı # Hakan Burak Meric bunlar aslında indextir ve bu indexlerle işlemler yaparlar uyumsuz olanlar NaN verir"
   ]
  },
  {
   "cell_type": "code",
   "execution_count": null,
   "id": "60ddea51",
   "metadata": {},
   "outputs": [],
   "source": []
  }
 ],
 "metadata": {
  "kernelspec": {
   "display_name": "Python 3 (ipykernel)",
   "language": "python",
   "name": "python3"
  },
  "language_info": {
   "codemirror_mode": {
    "name": "ipython",
    "version": 3
   },
   "file_extension": ".py",
   "mimetype": "text/x-python",
   "name": "python",
   "nbconvert_exporter": "python",
   "pygments_lexer": "ipython3",
   "version": "3.9.12"
  }
 },
 "nbformat": 4,
 "nbformat_minor": 5
}
