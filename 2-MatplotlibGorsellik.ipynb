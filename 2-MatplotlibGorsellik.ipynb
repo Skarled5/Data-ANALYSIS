{
 "cells": [
  {
   "cell_type": "code",
   "execution_count": 2,
   "id": "13786548",
   "metadata": {},
   "outputs": [],
   "source": [
    "import numpy as np\n",
    "import matplotlib.pyplot as plt\n",
    "%matplotlib inline"
   ]
  },
  {
   "cell_type": "code",
   "execution_count": 3,
   "id": "e8b8b86b",
   "metadata": {},
   "outputs": [],
   "source": [
    "numpyDizisi1 = np.linspace(0,10,20)"
   ]
  },
  {
   "cell_type": "code",
   "execution_count": 4,
   "id": "3b2ce82d",
   "metadata": {},
   "outputs": [
    {
     "data": {
      "text/plain": [
       "array([ 0.        ,  0.52631579,  1.05263158,  1.57894737,  2.10526316,\n",
       "        2.63157895,  3.15789474,  3.68421053,  4.21052632,  4.73684211,\n",
       "        5.26315789,  5.78947368,  6.31578947,  6.84210526,  7.36842105,\n",
       "        7.89473684,  8.42105263,  8.94736842,  9.47368421, 10.        ])"
      ]
     },
     "execution_count": 4,
     "metadata": {},
     "output_type": "execute_result"
    }
   ],
   "source": [
    "numpyDizisi1"
   ]
  },
  {
   "cell_type": "code",
   "execution_count": 5,
   "id": "b04cd398",
   "metadata": {},
   "outputs": [],
   "source": [
    "numpyDizisi2 = numpyDizisi1 ** 2"
   ]
  },
  {
   "cell_type": "code",
   "execution_count": 6,
   "id": "48892adf",
   "metadata": {},
   "outputs": [
    {
     "data": {
      "text/plain": [
       "[<matplotlib.lines.Line2D at 0x24e075ee220>]"
      ]
     },
     "execution_count": 6,
     "metadata": {},
     "output_type": "execute_result"
    },
    {
     "data": {
      "image/png": "[encoded data removed]",
      "text/plain": [
       "<Figure size 432x288 with 1 Axes>"
      ]
     },
     "metadata": {
      "needs_background": "light"
     },
     "output_type": "display_data"
    }
   ],
   "source": [
    "(benimFigur,benimEksen) = plt.subplots()\n",
    "benimEksen.plot(numpyDizisi1,numpyDizisi2,\"g\")\n",
    "benimEksen.plot(numpyDizisi2,numpyDizisi1,\"b\")\n",
    "# RGB hec code diye aratıp renk kodlarına ulaşabilirsiniz \"g\" yerine color=kodu yazmanız gereklidir"
   ]
  },
  {
   "cell_type": "code",
   "execution_count": 9,
   "id": "6519184c",
   "metadata": {},
   "outputs": [
    {
     "data": {
      "text/plain": [
       "[<matplotlib.lines.Line2D at 0x24e077b2ca0>]"
      ]
     },
     "execution_count": 9,
     "metadata": {},
     "output_type": "execute_result"
    },
    {
     "data": {
      "image/png": "[encoded data removed]",
      "text/plain": [
       "<Figure size 432x288 with 1 Axes>"
      ]
     },
     "metadata": {
      "needs_background": "light"
     },
     "output_type": "display_data"
    }
   ],
   "source": [
    "(yeniFigur,yeniEksen) = plt.subplots()\n",
    "yeniEksen.plot(numpyDizisi1,numpyDizisi1+2,color=\"blue\") #(numpyDizisi1,numpyDizisi1+2,color=\"blue\",linewidth=\"kalınlık 1.0 fln\")\n",
    "yeniEksen.plot(numpyDizisi1,numpyDizisi1+3,color =\"yellow\") #(numpyDizisi1,numpyDizisi1+3,color=\"yellow\",linestyle = \"--\")"
   ]
  },
  {
   "cell_type": "markdown",
   "id": "3ea31a26",
   "metadata": {},
   "source": [
    "# scatter"
   ]
  },
  {
   "cell_type": "code",
   "execution_count": 10,
   "id": "ee70ac30",
   "metadata": {},
   "outputs": [
    {
     "data": {
      "text/plain": [
       "<matplotlib.collections.PathCollection at 0x24e07807700>"
      ]
     },
     "execution_count": 10,
     "metadata": {},
     "output_type": "execute_result"
    },
    {
     "data": {
      "image/png": "[encoded data removed]",
      "text/plain": [
       "<Figure size 432x288 with 1 Axes>"
      ]
     },
     "metadata": {
      "needs_background": "light"
     },
     "output_type": "display_data"
    }
   ],
   "source": [
    "plt.scatter(numpyDizisi1,numpyDizisi2)"
   ]
  },
  {
   "cell_type": "markdown",
   "id": "a32ef021",
   "metadata": {},
   "source": [
    "# histogram"
   ]
  },
  {
   "cell_type": "code",
   "execution_count": 13,
   "id": "94486d46",
   "metadata": {},
   "outputs": [],
   "source": [
    "yeniDizi = np.random.randint(0,100,50)"
   ]
  },
  {
   "cell_type": "code",
   "execution_count": 14,
   "id": "eb6f6365",
   "metadata": {},
   "outputs": [
    {
     "data": {
      "text/plain": [
       "array([53, 41, 90, 72, 53, 11, 54, 67,  5, 15, 76, 77, 44,  5, 26,  3, 34,\n",
       "       27, 27, 21, 41, 18, 69, 14, 36, 27, 62, 18, 57, 95, 21, 54,  2, 15,\n",
       "       66,  1, 27, 27, 70, 53, 94, 71, 48, 57,  0, 35,  1, 93, 33, 70])"
      ]
     },
     "execution_count": 14,
     "metadata": {},
     "output_type": "execute_result"
    }
   ],
   "source": [
    "yeniDizi"
   ]
  },
  {
   "cell_type": "code",
   "execution_count": 15,
   "id": "25b0cd1e",
   "metadata": {},
   "outputs": [
    {
     "data": {
      "text/plain": [
       "(array([7., 6., 8., 4., 3., 6., 4., 6., 2., 4.]),\n",
       " array([ 0. ,  9.5, 19. , 28.5, 38. , 47.5, 57. , 66.5, 76. , 85.5, 95. ]),\n",
       " <BarContainer object of 10 artists>)"
      ]
     },
     "execution_count": 15,
     "metadata": {},
     "output_type": "execute_result"
    },
    {
     "data": {
      "image/png": "[encoded data removed]",
      "text/plain": [
       "<Figure size 432x288 with 1 Axes>"
      ]
     },
     "metadata": {
      "needs_background": "light"
     },
     "output_type": "display_data"
    }
   ],
   "source": [
    "plt.hist(yeniDizi)"
   ]
  },
  {
   "cell_type": "markdown",
   "id": "09bbbbfa",
   "metadata": {},
   "source": [
    "# boxplot"
   ]
  },
  {
   "cell_type": "code",
   "execution_count": 16,
   "id": "8cfa09e8",
   "metadata": {},
   "outputs": [
    {
     "data": {
      "text/plain": [
       "{'whiskers': [<matplotlib.lines.Line2D at 0x24e07920970>,\n",
       "  <matplotlib.lines.Line2D at 0x24e07920c40>],\n",
       " 'caps': [<matplotlib.lines.Line2D at 0x24e07920f10>,\n",
       "  <matplotlib.lines.Line2D at 0x24e0792c220>],\n",
       " 'boxes': [<matplotlib.lines.Line2D at 0x24e07920670>],\n",
       " 'medians': [<matplotlib.lines.Line2D at 0x24e0792c4f0>],\n",
       " 'fliers': [<matplotlib.lines.Line2D at 0x24e0792c7c0>],\n",
       " 'means': []}"
      ]
     },
     "execution_count": 16,
     "metadata": {},
     "output_type": "execute_result"
    },
    {
     "data": {
      "image/png": "[encoded data removed]",
      "text/plain": [
       "<Figure size 432x288 with 1 Axes>"
      ]
     },
     "metadata": {
      "needs_background": "light"
     },
     "output_type": "display_data"
    }
   ],
   "source": [
    "plt.boxplot(yeniDizi)"
   ]
  },
  {
   "cell_type": "code",
   "execution_count": 1,
   "id": "586f27e0",
   "metadata": {},
   "outputs": [],
   "source": [
    "#plt.figure(figsize=(10,8)) # satırı ve grafiğin boyutubu belirler\n",
    "#sns.countplot(x=\"rating\",hue=\"type\",data=netflix)\n",
    "#plt.title(\"tür ve reyting oranları\")\n",
    "#plt.show()"
   ]
  },
  {
   "cell_type": "code",
   "execution_count": 2,
   "id": "4ee434bc",
   "metadata": {},
   "outputs": [],
   "source": [
    "#labels=[\"Movie\",\"TV Show\"]\n",
    "#size=netflix[\"type\"].value_counts()\n",
    "#explode=[0,0.1] --> daire grafiğinde dilimlerin arasındaki boşlukların genişliğini belirler\n",
    "#plt.rcParams[\"figure.figsize\"]=(9,9) --> \n",
    "#plt.pie(size,labels=labels,explode=explode,shadow=True)\n",
    "#plt.legend()\n",
    "#plt.show"
   ]
  },
  {
   "cell_type": "code",
   "execution_count": null,
   "id": "f63eb08b",
   "metadata": {},
   "outputs": [],
   "source": []
  }
 ],
 "metadata": {
  "kernelspec": {
   "display_name": "Python 3 (ipykernel)",
   "language": "python",
   "name": "python3"
  },
  "language_info": {
   "codemirror_mode": {
    "name": "ipython",
    "version": 3
   },
   "file_extension": ".py",
   "mimetype": "text/x-python",
   "name": "python",
   "nbconvert_exporter": "python",
   "pygments_lexer": "ipython3",
   "version": "3.9.12"
  }
 },
 "nbformat": 4,
 "nbformat_minor": 5
}
